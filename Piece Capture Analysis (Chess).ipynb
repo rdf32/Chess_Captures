{
 "cells": [
  {
   "cell_type": "markdown",
   "metadata": {},
   "source": [
    "<p style=\"font-family: Arial; font-size:2em; font-style:bold\">\n",
    "<br> Rylie Fleckenstein<br><br> </p>\n",
    "<p style=\"font-family: Arial; font-size:1.5em; color:#2462C0; font-style:bold\">\n",
    "June 9, 2021</p>\n",
    "\n",
    "## Chess: Piece Capture Analysis"
   ]
  },
  {
   "cell_type": "markdown",
   "metadata": {},
   "source": [
    "## Data background\n",
    "\n",
    "General Info\n",
    "\n",
    "This is a set of just over 20,000 games collected from a selection of users on the site Lichess.org. This set contains the:\n",
    "\n",
    "- Game ID;\n",
    "- Rated (T/F);\n",
    "- Start Time;\n",
    "- End Time;\n",
    "- Number of Turns;\n",
    "- Game Status;\n",
    "- Winner;\n",
    "- Time Increment;\n",
    "- White Player ID;\n",
    "- White Player Rating;\n",
    "- Black Player ID;\n",
    "- Black Player Rating;\n",
    "- All Moves in Standard Chess Notation;\n",
    "- Opening Eco (Standardised Code for any given opening, list here);\n",
    "- Opening Name;\n",
    "- Opening Ply (Number of moves in the opening phase)\n",
    "\n",
    "link : https://www.kaggle.com/datasnaek/chess\n",
    "\n",
    "### Research Background\n",
    "\n",
    "I am planning on continuing the analysis beyond what is done in this document. I have several research ideas in regards to the game of chess and will be updating this document periodically as I accomplish these tasks. The first research question I sought to shed some light on is, \"Are there certain squares on the chess board, for each type of piecce, where there is a higher frequency of captures occuring?\" That is, are the white pawns making most of their captures on certain squares? Is the black queen making most of its captures on certain squares? The data set I am going to be using has a column called 'moves' which is the complete game annotated in chess notation. I plan to iterate over every game, find where each capture is taking place, determine which piece is making the capture, determine which square the capture is occuring on, and then accumulate this data for each type of chess piece and subsequently plot a heat map of the capture frequencies.\n",
    "\n",
    "- explain chess notation\n",
    "- explain each type of piece\n",
    "- explain why I generalized the pieces \n",
    "- explain further research ideas (determining the most frequent piece captured by each type of peice (using back tracking of some sort))\n"
   ]
  },
  {
   "cell_type": "code",
   "execution_count": 1,
   "metadata": {},
   "outputs": [],
   "source": [
    "import numpy as np\n",
    "import pandas as pd\n",
    "import matplotlib.pyplot as plt\n",
    "import seaborn as sns"
   ]
  },
  {
   "cell_type": "code",
   "execution_count": 2,
   "metadata": {},
   "outputs": [
    {
     "data": {
      "text/html": [
       "<div>\n",
       "<style scoped>\n",
       "    .dataframe tbody tr th:only-of-type {\n",
       "        vertical-align: middle;\n",
       "    }\n",
       "\n",
       "    .dataframe tbody tr th {\n",
       "        vertical-align: top;\n",
       "    }\n",
       "\n",
       "    .dataframe thead th {\n",
       "        text-align: right;\n",
       "    }\n",
       "</style>\n",
       "<table border=\"1\" class=\"dataframe\">\n",
       "  <thead>\n",
       "    <tr style=\"text-align: right;\">\n",
       "      <th></th>\n",
       "      <th>id</th>\n",
       "      <th>rated</th>\n",
       "      <th>created_at</th>\n",
       "      <th>last_move_at</th>\n",
       "      <th>turns</th>\n",
       "      <th>victory_status</th>\n",
       "      <th>winner</th>\n",
       "      <th>increment_code</th>\n",
       "      <th>white_id</th>\n",
       "      <th>white_rating</th>\n",
       "      <th>black_id</th>\n",
       "      <th>black_rating</th>\n",
       "      <th>moves</th>\n",
       "      <th>opening_eco</th>\n",
       "      <th>opening_name</th>\n",
       "      <th>opening_ply</th>\n",
       "    </tr>\n",
       "  </thead>\n",
       "  <tbody>\n",
       "    <tr>\n",
       "      <th>0</th>\n",
       "      <td>TZJHLljE</td>\n",
       "      <td>False</td>\n",
       "      <td>1.504210e+12</td>\n",
       "      <td>1.504210e+12</td>\n",
       "      <td>13</td>\n",
       "      <td>outoftime</td>\n",
       "      <td>white</td>\n",
       "      <td>15+2</td>\n",
       "      <td>bourgris</td>\n",
       "      <td>1500</td>\n",
       "      <td>a-00</td>\n",
       "      <td>1191</td>\n",
       "      <td>d4 d5 c4 c6 cxd5 e6 dxe6 fxe6 Nf3 Bb4+ Nc3 Ba5...</td>\n",
       "      <td>D10</td>\n",
       "      <td>Slav Defense: Exchange Variation</td>\n",
       "      <td>5</td>\n",
       "    </tr>\n",
       "    <tr>\n",
       "      <th>1</th>\n",
       "      <td>l1NXvwaE</td>\n",
       "      <td>True</td>\n",
       "      <td>1.504130e+12</td>\n",
       "      <td>1.504130e+12</td>\n",
       "      <td>16</td>\n",
       "      <td>resign</td>\n",
       "      <td>black</td>\n",
       "      <td>5+10</td>\n",
       "      <td>a-00</td>\n",
       "      <td>1322</td>\n",
       "      <td>skinnerua</td>\n",
       "      <td>1261</td>\n",
       "      <td>d4 Nc6 e4 e5 f4 f6 dxe5 fxe5 fxe5 Nxe5 Qd4 Nc6...</td>\n",
       "      <td>B00</td>\n",
       "      <td>Nimzowitsch Defense: Kennedy Variation</td>\n",
       "      <td>4</td>\n",
       "    </tr>\n",
       "    <tr>\n",
       "      <th>2</th>\n",
       "      <td>mIICvQHh</td>\n",
       "      <td>True</td>\n",
       "      <td>1.504130e+12</td>\n",
       "      <td>1.504130e+12</td>\n",
       "      <td>61</td>\n",
       "      <td>mate</td>\n",
       "      <td>white</td>\n",
       "      <td>5+10</td>\n",
       "      <td>ischia</td>\n",
       "      <td>1496</td>\n",
       "      <td>a-00</td>\n",
       "      <td>1500</td>\n",
       "      <td>e4 e5 d3 d6 Be3 c6 Be2 b5 Nd2 a5 a4 c5 axb5 Nc...</td>\n",
       "      <td>C20</td>\n",
       "      <td>King's Pawn Game: Leonardis Variation</td>\n",
       "      <td>3</td>\n",
       "    </tr>\n",
       "    <tr>\n",
       "      <th>3</th>\n",
       "      <td>kWKvrqYL</td>\n",
       "      <td>True</td>\n",
       "      <td>1.504110e+12</td>\n",
       "      <td>1.504110e+12</td>\n",
       "      <td>61</td>\n",
       "      <td>mate</td>\n",
       "      <td>white</td>\n",
       "      <td>20+0</td>\n",
       "      <td>daniamurashov</td>\n",
       "      <td>1439</td>\n",
       "      <td>adivanov2009</td>\n",
       "      <td>1454</td>\n",
       "      <td>d4 d5 Nf3 Bf5 Nc3 Nf6 Bf4 Ng4 e3 Nc6 Be2 Qd7 O...</td>\n",
       "      <td>D02</td>\n",
       "      <td>Queen's Pawn Game: Zukertort Variation</td>\n",
       "      <td>3</td>\n",
       "    </tr>\n",
       "    <tr>\n",
       "      <th>4</th>\n",
       "      <td>9tXo1AUZ</td>\n",
       "      <td>True</td>\n",
       "      <td>1.504030e+12</td>\n",
       "      <td>1.504030e+12</td>\n",
       "      <td>95</td>\n",
       "      <td>mate</td>\n",
       "      <td>white</td>\n",
       "      <td>30+3</td>\n",
       "      <td>nik221107</td>\n",
       "      <td>1523</td>\n",
       "      <td>adivanov2009</td>\n",
       "      <td>1469</td>\n",
       "      <td>e4 e5 Nf3 d6 d4 Nc6 d5 Nb4 a3 Na6 Nc3 Be7 b4 N...</td>\n",
       "      <td>C41</td>\n",
       "      <td>Philidor Defense</td>\n",
       "      <td>5</td>\n",
       "    </tr>\n",
       "  </tbody>\n",
       "</table>\n",
       "</div>"
      ],
      "text/plain": [
       "         id  rated    created_at  last_move_at  turns victory_status winner  \\\n",
       "0  TZJHLljE  False  1.504210e+12  1.504210e+12     13      outoftime  white   \n",
       "1  l1NXvwaE   True  1.504130e+12  1.504130e+12     16         resign  black   \n",
       "2  mIICvQHh   True  1.504130e+12  1.504130e+12     61           mate  white   \n",
       "3  kWKvrqYL   True  1.504110e+12  1.504110e+12     61           mate  white   \n",
       "4  9tXo1AUZ   True  1.504030e+12  1.504030e+12     95           mate  white   \n",
       "\n",
       "  increment_code       white_id  white_rating      black_id  black_rating  \\\n",
       "0           15+2       bourgris          1500          a-00          1191   \n",
       "1           5+10           a-00          1322     skinnerua          1261   \n",
       "2           5+10         ischia          1496          a-00          1500   \n",
       "3           20+0  daniamurashov          1439  adivanov2009          1454   \n",
       "4           30+3      nik221107          1523  adivanov2009          1469   \n",
       "\n",
       "                                               moves opening_eco  \\\n",
       "0  d4 d5 c4 c6 cxd5 e6 dxe6 fxe6 Nf3 Bb4+ Nc3 Ba5...         D10   \n",
       "1  d4 Nc6 e4 e5 f4 f6 dxe5 fxe5 fxe5 Nxe5 Qd4 Nc6...         B00   \n",
       "2  e4 e5 d3 d6 Be3 c6 Be2 b5 Nd2 a5 a4 c5 axb5 Nc...         C20   \n",
       "3  d4 d5 Nf3 Bf5 Nc3 Nf6 Bf4 Ng4 e3 Nc6 Be2 Qd7 O...         D02   \n",
       "4  e4 e5 Nf3 d6 d4 Nc6 d5 Nb4 a3 Na6 Nc3 Be7 b4 N...         C41   \n",
       "\n",
       "                             opening_name  opening_ply  \n",
       "0        Slav Defense: Exchange Variation            5  \n",
       "1  Nimzowitsch Defense: Kennedy Variation            4  \n",
       "2   King's Pawn Game: Leonardis Variation            3  \n",
       "3  Queen's Pawn Game: Zukertort Variation            3  \n",
       "4                        Philidor Defense            5  "
      ]
     },
     "execution_count": 2,
     "metadata": {},
     "output_type": "execute_result"
    }
   ],
   "source": [
    "chess_dat = pd.read_csv('games.csv')\n",
    "chess_dat.head()"
   ]
  },
  {
   "cell_type": "code",
   "execution_count": 3,
   "metadata": {},
   "outputs": [
    {
     "name": "stderr",
     "output_type": "stream",
     "text": [
      "C:\\Users\\dylle\\Anaconda3\\lib\\site-packages\\ipykernel_launcher.py:3: SettingWithCopyWarning: \n",
      "A value is trying to be set on a copy of a slice from a DataFrame\n",
      "\n",
      "See the caveats in the documentation: https://pandas.pydata.org/pandas-docs/stable/user_guide/indexing.html#returning-a-view-versus-a-copy\n",
      "  This is separate from the ipykernel package so we can avoid doing imports until\n"
     ]
    }
   ],
   "source": [
    "# convert moves for each game into numpy array so it can be parsed\n",
    "for i in range(len(chess_dat)):\n",
    "    chess_dat['moves'][i] = chess_dat['moves'][i].split(\" \")"
   ]
  },
  {
   "cell_type": "markdown",
   "metadata": {},
   "source": [
    "Here we can see that each game now has a vector or list of moves"
   ]
  },
  {
   "cell_type": "code",
   "execution_count": 14,
   "metadata": {},
   "outputs": [
    {
     "data": {
      "text/plain": [
       "['d4',\n",
       " 'Nc6',\n",
       " 'e4',\n",
       " 'e5',\n",
       " 'f4',\n",
       " 'f6',\n",
       " 'dxe5',\n",
       " 'fxe5',\n",
       " 'fxe5',\n",
       " 'Nxe5',\n",
       " 'Qd4',\n",
       " 'Nc6',\n",
       " 'Qe5+',\n",
       " 'Nxe5',\n",
       " 'c4',\n",
       " 'Bb4+']"
      ]
     },
     "execution_count": 14,
     "metadata": {},
     "output_type": "execute_result"
    }
   ],
   "source": [
    "chess_dat['moves'][1]"
   ]
  },
  {
   "cell_type": "markdown",
   "metadata": {},
   "source": [
    "Now is a good time to discuss the notation used for chess and how it can be converted into a coordinate system. In chess, the columns of the board are refered to as files and are annotated with letters ranging from 'a' - 'h'. The rows are refered to as ranks and are annotated with numbers ranging from 1 - 8. Thus, we have an 8x8 board consisting of 64 unique squares. In order to make this notation useful for our computers and in python, we must convert this notation into coordinates. For example, we would want to convert 'd4' into (4,3) and so forth.  "
   ]
  },
  {
   "cell_type": "code",
   "execution_count": 5,
   "metadata": {},
   "outputs": [],
   "source": [
    "row_conv = {'8':0, '7':1, '6':2,'5':3, '4':4, '3':5, '2':6, '1':7}\n",
    "col_conv = {'a':0, 'b':1, 'c':2, 'd':3, 'e':4, 'f':5, 'g':6, 'h':7}"
   ]
  },
  {
   "cell_type": "markdown",
   "metadata": {},
   "source": [
    "In order to complete these conversions in a timely manner we will write a simple function"
   ]
  },
  {
   "cell_type": "code",
   "execution_count": 6,
   "metadata": {},
   "outputs": [],
   "source": [
    "def notation_to_square(n):\n",
    "    \"\"\"\n",
    "    takes chess notation, returns 2D coordinate\n",
    "    \"\"\"\n",
    "    col = n[0]\n",
    "    row = n[1]\n",
    "    return row_conv[row], col_conv[col]"
   ]
  },
  {
   "cell_type": "markdown",
   "metadata": {},
   "source": [
    "The next portion of the analysis involves iterating over the annotated game moves and finding all of the captures. In chess notation, a capture is signified by an 'x' following the annotation for the piece making the capture and then after the 'x' we are given the square where the capture occured. For example, bishops are denoted by 'B' so if a bishop makes a capture on the square 'd4' the chess notation will read 'Bxd4'. This is also a good time to walk through the different notation for each piece. So, for pawns, these are the most tricky because they are annotated by which file they currently reside. For example, if there is a pawn on the square 'b4' and it captures a piece on the square 'c5' (pawns capture diagonally but thats not important for this part of the analysis), then the notation would read 'bxc5'. Then we have the knights which are denoted by 'N', bishops by 'B', the rooks by 'R', the queen by 'Q', and the king by 'K'. "
   ]
  },
  {
   "cell_type": "code",
   "execution_count": 7,
   "metadata": {},
   "outputs": [],
   "source": [
    "# find capture and returns move it occured on and what square that the capture was made\n",
    "def find_captures(moves):\n",
    "    captures = {}\n",
    "    for i in range(len(moves)):\n",
    "        if 'x' in moves[i]:\n",
    "            x_index = moves[i].index('x')\n",
    "            square = moves[i][x_index + 1:]\n",
    "            piece = moves[i][0]\n",
    "            captures[i] = square, piece\n",
    "    return captures"
   ]
  },
  {
   "cell_type": "markdown",
   "metadata": {},
   "source": [
    "So, if we run this function we can see we given a dictionary object, the key being the move the capture was made on in the game (important for determining which player is making the capture will be explained later), the square on which the capture occured, and then the piece that is making the capture."
   ]
  },
  {
   "cell_type": "code",
   "execution_count": 13,
   "metadata": {},
   "outputs": [
    {
     "data": {
      "text/plain": [
       "{6: ('e5', 'd'),\n",
       " 7: ('e5', 'f'),\n",
       " 8: ('e5', 'f'),\n",
       " 9: ('e5', 'N'),\n",
       " 13: ('e5', 'N')}"
      ]
     },
     "execution_count": 13,
     "metadata": {},
     "output_type": "execute_result"
    }
   ],
   "source": [
    "find_captures(chess_dat['moves'][1])"
   ]
  },
  {
   "cell_type": "markdown",
   "metadata": {},
   "source": [
    "Now, we need to take the piece that is returned to us and determine which piece type it is. This function is mostly written to deal with the pawns since they can be any lower case letter from a-h."
   ]
  },
  {
   "cell_type": "code",
   "execution_count": 9,
   "metadata": {},
   "outputs": [],
   "source": [
    "def find_piece_type(piece):\n",
    "    if set('abcdefgh').intersection(piece):\n",
    "            piece = 'p'\n",
    "    else:\n",
    "        piece = str(piece)\n",
    "    return piece"
   ]
  },
  {
   "cell_type": "markdown",
   "metadata": {},
   "source": [
    "Alright, now that we have these starter function, we are ready to initialize a dictionary that is going to save all of the captures that occur in the entire dataset by piece type. I have one key for each type, 'w_p' for the white pawns, 'w_R' for the white rooks, 'w_N' for the white nights, 'w_B' for the white bishops, 'w_Q' for the white queen, 'w_K' for the white king, and then the same for the black pieces but instead of a w they all start with a b."
   ]
  },
  {
   "cell_type": "code",
   "execution_count": 10,
   "metadata": {},
   "outputs": [],
   "source": [
    "captures_dict = {'w_p': [], 'w_R': [], 'w_N': [], 'w_B': [], 'w_Q': [], 'w_K': [],\n",
    "                'b_p': [], 'b_R': [], 'b_N': [], 'b_B': [], 'b_Q': [], 'b_K': []}"
   ]
  },
  {
   "cell_type": "markdown",
   "metadata": {},
   "source": [
    "Alright, so the last thing we need to do is determine which player (or color of pieces) is making the capture. This is where the move on which the capture occured finally comes into play. In the game of chess, the player with the white pieces always makes the first move and since python indexing starts with 0, each move made by white will be an even number (0, 2, 4, 6, 8). The code below finds the captures, determines which square it took place on, determines which piece and white color made the capture, and then appends the coordinate as a tuple into the captures_dictionary."
   ]
  },
  {
   "cell_type": "code",
   "execution_count": 11,
   "metadata": {},
   "outputs": [
    {
     "name": "stdout",
     "output_type": "stream",
     "text": [
      "w_p captured on square e5\n",
      "b_p captured on square e5\n",
      "w_p captured on square e5\n",
      "b_N captured on square e5\n",
      "b_N captured on square e5\n"
     ]
    }
   ],
   "source": [
    "caps = find_captures(chess_dat['moves'][1])\n",
    "for capture in caps:\n",
    "    \n",
    "    notation = caps[capture][0]\n",
    "    piece = caps[capture][1]\n",
    "    square = notation_to_square(notation)\n",
    "    \n",
    "    if capture % 2 == 0:\n",
    "        piece = 'w_' + find_piece_type(piece)\n",
    "    else:\n",
    "        piece = 'b_' + find_piece_type(piece)\n",
    "        \n",
    "    captures_dict[piece].append(square)\n",
    "    print(piece + ' ' + 'captured on square' + ' ' + notation)"
   ]
  },
  {
   "cell_type": "markdown",
   "metadata": {},
   "source": [
    "We can see our code is working properly so we are going to reinitialize or reset the captures_dict and write a quick function so that we can deploy this code accross the entire dataset instead of just on one game."
   ]
  },
  {
   "cell_type": "code",
   "execution_count": 15,
   "metadata": {},
   "outputs": [
    {
     "data": {
      "text/plain": [
       "{'w_p': [(3, 4), (3, 4)],\n",
       " 'w_R': [],\n",
       " 'w_N': [],\n",
       " 'w_B': [],\n",
       " 'w_Q': [],\n",
       " 'w_K': [],\n",
       " 'b_p': [(3, 4)],\n",
       " 'b_R': [],\n",
       " 'b_N': [(3, 4), (3, 4)],\n",
       " 'b_B': [],\n",
       " 'b_Q': [],\n",
       " 'b_K': []}"
      ]
     },
     "execution_count": 15,
     "metadata": {},
     "output_type": "execute_result"
    }
   ],
   "source": [
    "captures_dict"
   ]
  },
  {
   "cell_type": "code",
   "execution_count": 16,
   "metadata": {},
   "outputs": [],
   "source": [
    "captures_dict = {'w_p': [], 'w_R': [], 'w_N': [], 'w_B': [], 'w_Q': [], 'w_K': [],\n",
    "                'b_p': [], 'b_R': [], 'b_N': [], 'b_B': [], 'b_Q': [], 'b_K': []}"
   ]
  },
  {
   "cell_type": "code",
   "execution_count": 17,
   "metadata": {},
   "outputs": [],
   "source": [
    "def pieces_captures_by_square(game):\n",
    "    \n",
    "    caps = find_captures(chess_dat['moves'][game])\n",
    "    for capture in caps:\n",
    "\n",
    "        notation = caps[capture][0]\n",
    "        piece = caps[capture][1]\n",
    "        square = notation_to_square(notation)\n",
    "\n",
    "        if capture % 2 == 0:\n",
    "            piece = 'w_' + find_piece_type(piece)\n",
    "        else:\n",
    "            piece = 'b_' + find_piece_type(piece)\n",
    "\n",
    "        captures_dict[piece].append(square)\n"
   ]
  },
  {
   "cell_type": "markdown",
   "metadata": {},
   "source": [
    "Here we deploy our function accross the entire dataset. Note, we took the time to write small functions for each specific task before consolidating it into one main function which allows our final deployment code to be relatively simple."
   ]
  },
  {
   "cell_type": "code",
   "execution_count": 18,
   "metadata": {},
   "outputs": [],
   "source": [
    "for i in range(len(chess_dat)):\n",
    "    pieces_captures_by_square(i)"
   ]
  },
  {
   "cell_type": "markdown",
   "metadata": {},
   "source": [
    "Now that we have deployed our function to every game in the dataset, we have a dictionary 'captures_dict' that contains a list of tuples (coordinates of each capture) for each type of piece. What we need to do, is generate dictionaries for each type of piece where the keys are the coordinates and the values are the number of times those values occured for each piece in the 'captures_dict'. So, we create a counter function and we can see that the occurences for 'w_p' is now a dictionary of coordinates and the number of times captures occured on the coordinates by the piece type 'w_p'."
   ]
  },
  {
   "cell_type": "code",
   "execution_count": 19,
   "metadata": {},
   "outputs": [],
   "source": [
    "def counter(it):\n",
    "    counts = {}\n",
    "    for item in it:\n",
    "        try:\n",
    "            counts[item] += 1\n",
    "        except KeyError:\n",
    "            counts[item] = 1\n",
    "    return counts"
   ]
  },
  {
   "cell_type": "code",
   "execution_count": 20,
   "metadata": {},
   "outputs": [],
   "source": [
    "occurences = counter(captures_dict['w_p'])"
   ]
  },
  {
   "cell_type": "code",
   "execution_count": 26,
   "metadata": {},
   "outputs": [
    {
     "data": {
      "text/plain": [
       "{(1, 6): 577,\n",
       " (0, 3): 488,\n",
       " (4, 7): 111,\n",
       " (3, 5): 157,\n",
       " (1, 5): 822,\n",
       " (2, 5): 248,\n",
       " (0, 5): 354,\n",
       " (2, 7): 106,\n",
       " (1, 3): 392,\n",
       " (0, 4): 152,\n",
       " (4, 5): 129,\n",
       " (0, 7): 63,\n",
       " (1, 4): 328,\n",
       " (6, 7): 46,\n",
       " (5, 6): 70,\n",
       " (1, 7): 225,\n",
       " (4, 6): 130,\n",
       " (3, 7): 107,\n",
       " (4, 4): 97,\n",
       " (0, 0): 28,\n",
       " (3, 1): 87,\n",
       " (6, 0): 73,\n",
       " (4, 0): 81,\n",
       " (5, 7): 86,\n",
       " (2, 3): 181,\n",
       " (3, 4): 182,\n",
       " (5, 4): 46,\n",
       " (0, 6): 86,\n",
       " (3, 6): 173,\n",
       " (5, 1): 52,\n",
       " (6, 5): 42,\n",
       " (6, 2): 24,\n",
       " (3, 0): 70,\n",
       " (1, 1): 100,\n",
       " (2, 4): 224,\n",
       " (2, 2): 130,\n",
       " (4, 1): 86,\n",
       " (6, 1): 56,\n",
       " (5, 0): 80,\n",
       " (2, 6): 152,\n",
       " (5, 2): 78,\n",
       " (1, 2): 127,\n",
       " (7, 0): 12,\n",
       " (4, 3): 89,\n",
       " (1, 0): 54,\n",
       " (7, 5): 8,\n",
       " (7, 6): 8,\n",
       " (2, 0): 46,\n",
       " (3, 2): 104,\n",
       " (7, 1): 11,\n",
       " (5, 5): 69,\n",
       " (4, 2): 104,\n",
       " (0, 1): 20,\n",
       " (3, 3): 127,\n",
       " (7, 4): 8,\n",
       " (6, 3): 16,\n",
       " (6, 6): 38,\n",
       " (0, 2): 66,\n",
       " (2, 1): 51,\n",
       " (5, 3): 23,\n",
       " (7, 3): 9,\n",
       " (7, 2): 16,\n",
       " (7, 7): 11,\n",
       " (6, 4): 9}"
      ]
     },
     "execution_count": 26,
     "metadata": {},
     "output_type": "execute_result"
    }
   ],
   "source": [
    "occurences"
   ]
  },
  {
   "cell_type": "markdown",
   "metadata": {},
   "source": [
    "Now, in order to vizualise this data I decided I wanted to use heatmaps. The trick with that is, all of our data is stored in a dictionary but the best way to generate a heatmap of an 8x8 board is through the use of a 2D numpy array. So, I initialized a 2D numpy array of zeros with dimension 8x8 and then wrote a nested for loop to set the value for each square in the 2D numpy array based upon the stored values in our occurences dictionary. If there is a value saved in the dictionary for the sqaure the loop is iterating over, the value will be appended to the array and if there is no value in the dictionary for that square a 0 will be appended."
   ]
  },
  {
   "cell_type": "code",
   "execution_count": 21,
   "metadata": {},
   "outputs": [],
   "source": [
    "cap_counts = np.zeros((8,8))"
   ]
  },
  {
   "cell_type": "code",
   "execution_count": 22,
   "metadata": {},
   "outputs": [],
   "source": [
    "for i in range(8):\n",
    "    for j in range(8):\n",
    "        try:\n",
    "            cap_counts[i][j] = occurences[(i, j)]\n",
    "        except:\n",
    "            cap_counts[i][j] = 0"
   ]
  },
  {
   "cell_type": "code",
   "execution_count": 23,
   "metadata": {},
   "outputs": [
    {
     "data": {
      "text/plain": [
       "array([[  21.,   13.,   17.,   24.,   17.,   26.,    8.,    8.],\n",
       "       [  14.,   94.,   99.,   73.,   85.,  149.,  135.,   43.],\n",
       "       [ 145.,  352.,  913.,  820.,  660., 1071.,  564.,  141.],\n",
       "       [ 309., 1111., 1879., 6168., 3671., 1295.,  914.,  259.],\n",
       "       [ 166., 1144.,  867., 2390., 1385.,  715., 1151.,  198.],\n",
       "       [ 187.,  683., 2046.,  448.,  833., 1248.,  874.,  320.],\n",
       "       [   0.,    0.,    0.,    0.,    0.,    0.,    0.,    0.],\n",
       "       [   0.,    0.,    0.,    0.,    0.,    0.,    0.,    0.]])"
      ]
     },
     "execution_count": 23,
     "metadata": {},
     "output_type": "execute_result"
    }
   ],
   "source": [
    "cap_counts"
   ]
  },
  {
   "cell_type": "markdown",
   "metadata": {},
   "source": [
    "Now we can plot a heatmap of the captures"
   ]
  },
  {
   "cell_type": "code",
   "execution_count": 24,
   "metadata": {},
   "outputs": [
    {
     "data": {
      "image/png": "[encoded data removed]",
      "text/plain": [
       "<Figure size 432x288 with 2 Axes>"
      ]
     },
     "metadata": {
      "needs_background": "light"
     },
     "output_type": "display_data"
    }
   ],
   "source": [
    "ax = sns.heatmap(cap_counts)\n",
    "plt.show()"
   ]
  },
  {
   "cell_type": "markdown",
   "metadata": {},
   "source": [
    "Now, to deploy this functionality across all of the different piece type I just wrote a simple for loop and below we can see the amazing results."
   ]
  },
  {
   "cell_type": "code",
   "execution_count": 25,
   "metadata": {
    "scrolled": false
   },
   "outputs": [
    {
     "data": {
      "image/png": "[encoded data removed]",
      "text/plain": [
       "<Figure size 432x288 with 2 Axes>"
      ]
     },
     "metadata": {
      "needs_background": "light"
     },
     "output_type": "display_data"
    },
    {
     "data": {
      "image/png": "[encoded data removed]",
      "text/plain": [
       "<Figure size 432x288 with 2 Axes>"
      ]
     },
     "metadata": {
      "needs_background": "light"
     },
     "output_type": "display_data"
    },
    {
     "data": {
      "image/png": "[encoded data removed]",
      "text/plain": [
       "<Figure size 432x288 with 2 Axes>"
      ]
     },
     "metadata": {
      "needs_background": "light"
     },
     "output_type": "display_data"
    },
    {
     "data": {
      "image/png": "[encoded data removed]",
      "text/plain": [
       "<Figure size 432x288 with 2 Axes>"
      ]
     },
     "metadata": {
      "needs_background": "light"
     },
     "output_type": "display_data"
    },
    {
     "data": {
      "image/png": "[encoded data removed]",
      "text/plain": [
       "<Figure size 432x288 with 2 Axes>"
      ]
     },
     "metadata": {
      "needs_background": "light"
     },
     "output_type": "display_data"
    },
    {
     "data": {
      "image/png": "[encoded data removed]",
      "text/plain": [
       "<Figure size 432x288 with 2 Axes>"
      ]
     },
     "metadata": {
      "needs_background": "light"
     },
     "output_type": "display_data"
    },
    {
     "data": {
      "image/png": "[encoded data removed]",
      "text/plain": [
       "<Figure size 432x288 with 2 Axes>"
      ]
     },
     "metadata": {
      "needs_background": "light"
     },
     "output_type": "display_data"
    },
    {
     "data": {
      "image/png": "[encoded data removed]",
      "text/plain": [
       "<Figure size 432x288 with 2 Axes>"
      ]
     },
     "metadata": {
      "needs_background": "light"
     },
     "output_type": "display_data"
    },
    {
     "data": {
      "image/png": "[encoded data removed]",
      "text/plain": [
       "<Figure size 432x288 with 2 Axes>"
      ]
     },
     "metadata": {
      "needs_background": "light"
     },
     "output_type": "display_data"
    },
    {
     "data": {
      "image/png": "[encoded data removed]",
      "text/plain": [
       "<Figure size 432x288 with 2 Axes>"
      ]
     },
     "metadata": {
      "needs_background": "light"
     },
     "output_type": "display_data"
    },
    {
     "data": {
      "image/png": "[encoded data removed]",
      "text/plain": [
       "<Figure size 432x288 with 2 Axes>"
      ]
     },
     "metadata": {
      "needs_background": "light"
     },
     "output_type": "display_data"
    },
    {
     "data": {
      "image/png": "[encoded data removed]",
      "text/plain": [
       "<Figure size 432x288 with 2 Axes>"
      ]
     },
     "metadata": {
      "needs_background": "light"
     },
     "output_type": "display_data"
    }
   ],
   "source": [
    "for key in captures_dict.keys():\n",
    "    occurences = counter(captures_dict[key])\n",
    "    cap_counts = np.zeros((8,8))\n",
    "    \n",
    "    for i in range(8):\n",
    "        for j in range(8):\n",
    "            try:\n",
    "                cap_counts[i][j] = occurences[(i, j)]\n",
    "            except:\n",
    "                cap_counts[i][j] = 0\n",
    "            \n",
    "    ax = sns.heatmap(cap_counts)\n",
    "    plt.title('Number of captures on each square for' + ' ' + key)\n",
    "    plt.show()"
   ]
  },
  {
   "cell_type": "markdown",
   "metadata": {},
   "source": [
    "### Thoughts"
   ]
  },
  {
   "cell_type": "markdown",
   "metadata": {},
   "source": [
    "At the moment I have not taken much time to give these results meaning in the context of the game but plan on doing so in the near future. But, for now and at a quick first glance, I do think it is pretty cool to see how certain pieces do have hot spots where most of the captures they commit are taking place and I do believe there is much to be learned from this data. "
   ]
  }
 ],
 "metadata": {
  "kernelspec": {
   "display_name": "Python 3",
   "language": "python",
   "name": "python3"
  },
  "language_info": {
   "codemirror_mode": {
    "name": "ipython",
    "version": 3
   },
   "file_extension": ".py",
   "mimetype": "text/x-python",
   "name": "python",
   "nbconvert_exporter": "python",
   "pygments_lexer": "ipython3",
   "version": "3.7.7"
  },
  "varInspector": {
   "cols": {
    "lenName": 16,
    "lenType": 16,
    "lenVar": 40
   },
   "kernels_config": {
    "python": {
     "delete_cmd_postfix": "",
     "delete_cmd_prefix": "del ",
     "library": "var_list.py",
     "varRefreshCmd": "print(var_dic_list())"
    },
    "r": {
     "delete_cmd_postfix": ") ",
     "delete_cmd_prefix": "rm(",
     "library": "var_list.r",
     "varRefreshCmd": "cat(var_dic_list()) "
    }
   },
   "position": {
    "height": "144.444px",
    "left": "1763.33px",
    "right": "20px",
    "top": "119px",
    "width": "350px"
   },
   "types_to_exclude": [
    "module",
    "function",
    "builtin_function_or_method",
    "instance",
    "_Feature"
   ],
   "window_display": false
  }
 },
 "nbformat": 4,
 "nbformat_minor": 4
}
